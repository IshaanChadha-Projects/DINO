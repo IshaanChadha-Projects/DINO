{
 "cells": [
  {
   "cell_type": "code",
   "execution_count": null,
   "id": "ec1f12c5",
   "metadata": {},
   "outputs": [],
   "source": [
    "# Import the OpenAI library for API access and IPython display utilities for showing images\n",
    "import openai\n",
    "from IPython.display import Image, display\n",
    "\n",
    "# Set your OpenAI API key for authentication\n",
    "openai.api_key = \"PLEASE ENTER YOUR API KEY. I WAS SHY SO COULDN'T SHARE MINE\""
   ]
  },
  {
   "cell_type": "code",
   "execution_count": null,
   "id": "0d7d1931",
   "metadata": {},
   "outputs": [],
   "source": [
    "def get_dino_baby(dino1_name, dino2_name):\n",
    "    \"\"\"\n",
    "    Generates and displays an image of a baby dinosaur that combines features of two parent dinosaurs.\n",
    "    \n",
    "    Parameters:\n",
    "    - dino1_name: Name of the first parent dinosaur.\n",
    "    - dino2_name: Name of the second parent dinosaur.\n",
    "    \"\"\"\n",
    "    # Construct a prompt describing the baby dinosaur based on features of the two parent dinosaurs\n",
    "    prompt = f\"Let's assume that a {dino1_name} and {dino2_name} bred together to have a baby dinosaur.\" \\\n",
    "        \" This baby dinosaur then grew up and is now a big dinosaur. What would it look like?\" \\\n",
    "        \" If one of the dinosaurs has wings, include them in the image. Please emphasize\" \\\n",
    "        \" the wings, horns, and such distinct features in the child. Should be an animated image. No text\" \\\n",
    "        \" should be present in the image.\"\n",
    "    \n",
    "    # Use OpenAI's Image API to generate an image based on the prompt\n",
    "    response = openai.Image.create(\n",
    "        prompt=prompt,\n",
    "        n=1,  # Specify the number of images to generate\n",
    "        size=\"1024x1024\"  # Set the size of the generated image\n",
    "    )\n",
    "    \n",
    "    # Extract the URL of the generated image from the API response\n",
    "    image_url = response['data'][0]['url']\n",
    "\n",
    "    # Display the generated image in the Jupyter Notebook\n",
    "    display(Image(url=image_url))"
   ]
  },
  {
   "cell_type": "code",
   "execution_count": null,
   "id": "ade79565",
   "metadata": {
    "scrolled": true
   },
   "outputs": [],
   "source": [
    "# Example usage of the function to generate an image of a baby dinosaur from a brontosaurus and a T-Rex\n",
    "get_dino_baby('brontosaurus', 'trex')"
   ]
  }
 ],
 "metadata": {
  "kernelspec": {
   "display_name": "Python 3 (ipykernel)",
   "language": "python",
   "name": "python3"
  },
  "language_info": {
   "codemirror_mode": {
    "name": "ipython",
    "version": 3
   },
   "file_extension": ".py",
   "mimetype": "text/x-python",
   "name": "python",
   "nbconvert_exporter": "python",
   "pygments_lexer": "ipython3",
   "version": "3.9.5"
  }
 },
 "nbformat": 4,
 "nbformat_minor": 5
}
